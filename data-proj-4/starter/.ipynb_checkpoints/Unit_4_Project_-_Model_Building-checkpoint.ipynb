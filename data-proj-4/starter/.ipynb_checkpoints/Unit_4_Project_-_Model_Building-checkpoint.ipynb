{
 "cells": [
  {
   "cell_type": "markdown",
   "id": "eebbc19f",
   "metadata": {},
   "source": [
    "# Unit 4 Project - Model Building "
   ]
  },
  {
   "cell_type": "markdown",
   "id": "0e314f76",
   "metadata": {},
   "source": [
    "# Part 1 - Learn Linear Regression Theory"
   ]
  },
  {
   "cell_type": "markdown",
   "id": "43b21b31",
   "metadata": {},
   "source": [
    "### Step 1: Describe Linear Regression Models "
   ]
  },
  {
   "cell_type": "markdown",
   "id": "146aec7e",
   "metadata": {},
   "source": [
    "Answer the following questions after reading the resource material and watching the video lectures linked in the Linear Regression Theory section:"
   ]
  },
  {
   "cell_type": "markdown",
   "id": "cc7b5db5",
   "metadata": {},
   "source": [
    "- In your own words, briefly describe a simple linear regression model.\n",
    "\n",
    "The SLRM is a method to determine how the independent variable affects the dependent variable. This includes the causal relationship from the independent variable being affected by a multiplier, the initial constant, and uncertainty. A Linear Regression model’s main aim is to find the best fit linear line and the optimal values of intercept and coefficients such that the error is minimized.\n",
    "- What type of machine learning is linear regression?\n",
    "\n",
    "Linear Regression is the supervised Machine Learning model in which the model finds the best fit linear line between the independent and dependent variable i.e it finds the linear relationship between the dependent and independent variable.\n",
    "- What is a “line of best fit” using the OLS method?\n",
    "\n",
    "The Ordinary Least Squares method will find the regression line which minimizes the sum of sqaured errors. It shows where the best explanatory power is.\n",
    "- What is the difference between correlation and regression?\n",
    "\n",
    "Correlations describe a relationship between variables. The variables move together and show the degree of interrelation between two variables. The correlation betwen X & Y is the same as Y & X. It can be envisioned as a point.\n",
    "Regressions describes how one variable affects the other. It measures casuality, not degrees of correlation. They do not imply symmetrical correlations. The graphical representation is a line (best fit).\n",
    "- Describe a scenario when you would use linear regression and why you would use it.\n",
    "\n",
    "We can use a linear regression to predict the amount of beer consumed in the US depending on state."
   ]
  },
  {
   "cell_type": "markdown",
   "id": "fefd8893",
   "metadata": {},
   "source": [
    "### Step 2: Describe Linear Regression Assumptions "
   ]
  },
  {
   "cell_type": "markdown",
   "id": "4abd7e77",
   "metadata": {},
   "source": [
    "In your own words, describe the following linear regression assumptions after reading the resource material and watching the video lectures linked in the Linear Regression Theory section:"
   ]
  },
  {
   "cell_type": "markdown",
   "id": "2005712c",
   "metadata": {},
   "source": [
    "- Linearity\n",
    "\n",
    "Happens when the relation between two variables is linear. If the pattern forms a straight line (trend-wise), it is linear.\n",
    "\n",
    "- Normality\n",
    "\n",
    "Error terms are normally distributed.\n",
    "\n",
    "- Homoscedasticity\n",
    "\n",
    "Constant variance of the error terms.\n",
    "\n",
    "- No multicollinearity\n",
    "\n",
    "When two or more observed variables have a high correlation with each other, there is multicollinearity.\n",
    "\n",
    "- No endogeneity\n",
    "\n",
    "Endogeneity is the correlation of the independent variables and the errors. The problem is referred to as ommitted variable bias.\n",
    "\n",
    "- No autocorrelation\n",
    "\n",
    "The correlation of any two error terms is 0 (uncorelated). Cannot be relaxed. :("
   ]
  },
  {
   "cell_type": "markdown",
   "id": "1d61b124",
   "metadata": {},
   "source": [
    "### Step 3: Describe How to Interpret Results from Correlation Table in Model Summary "
   ]
  },
  {
   "cell_type": "markdown",
   "id": "84e72672",
   "metadata": {},
   "source": [
    "In your own words, describe the following terms after reading the resource material and watching the video lectures linked in the Linear Regression Theory section:"
   ]
  },
  {
   "cell_type": "markdown",
   "id": "63412327",
   "metadata": {},
   "source": [
    "- Coefficient of Constant / Intercept (b0)\n",
    "\n",
    "This is the constant that happens regardless of the presence of the independent variable (happening at x = 0).\n",
    "\n",
    "- Coefficient of Independent Variable (B1)\n",
    "\n",
    "This is the multiplier of the effect on the independent variable.\n",
    "\n",
    "- Standard Error\n",
    "\n",
    "Shows accuracy of prediction of each variable. Lower is better..\n",
    "\n",
    "- T-Statistic\n",
    "\n",
    "Shows how strong the difference between the estimated value of a parameter from its hypothesized value to its standard error. The higher the absolute maximum is, the better.\n",
    "\n",
    "- P-Value of T-Statistic (from the independent variable)\n",
    "\n",
    "Shows how useful the variable of b1 is and if it explains the variability of the model, AKA how significant the variable is. A good test has this value close to 0."
   ]
  },
  {
   "cell_type": "markdown",
   "id": "36c3f83e",
   "metadata": {},
   "source": [
    "### Step 4:  Explain R-Squared and adjusted R-squared"
   ]
  },
  {
   "cell_type": "markdown",
   "id": "f3cda47b",
   "metadata": {},
   "source": [
    "In your own words, describe the following terms after reading the resource material and watching the video lectures linked in the Linear Regression Theory section:"
   ]
  },
  {
   "cell_type": "markdown",
   "id": "493a011c",
   "metadata": {},
   "source": [
    "- R-squared\n",
    "\n",
    "Shows how much of the total variability of the dataset is explained by your regression model AKA how well the model fits the data.\n",
    "\n",
    "- Adjusted R-squared\n",
    "\n",
    "Adjusted term with multiple regressions. Since they are always better than simple ones, the adjusted R-squared is smaller, as it penalized usage of excessive variables. "
   ]
  },
  {
   "cell_type": "markdown",
   "id": "e365eb29",
   "metadata": {},
   "source": [
    "# Part 2 - Linear Regression in Practice"
   ]
  },
  {
   "cell_type": "markdown",
   "id": "fe1421ad",
   "metadata": {},
   "source": [
    "### Step 1: Import libraries and load dataset"
   ]
  },
  {
   "cell_type": "code",
   "execution_count": 49,
   "id": "455d7c79",
   "metadata": {},
   "outputs": [],
   "source": [
    "import numpy as np\n",
    "import pandas as pd\n",
    "import scipy\n",
    "import statsmodels.api as sm\n",
    "import matplotlib.pyplot as plt\n",
    "import seaborn as sns\n",
    "import sklearn\n",
    "from sklearn.linear_model import LinearRegression"
   ]
  },
  {
   "cell_type": "code",
   "execution_count": 14,
   "id": "ef01e3da",
   "metadata": {},
   "outputs": [],
   "source": [
    "house = pd.read_csv(\"house_data.csv\")"
   ]
  },
  {
   "cell_type": "markdown",
   "id": "2ee41601",
   "metadata": {},
   "source": [
    "### Step 2: Explore the data "
   ]
  },
  {
   "cell_type": "markdown",
   "id": "b8349c00",
   "metadata": {},
   "source": [
    "#### Spend time exploring the data and looking for relationships between variables. "
   ]
  },
  {
   "cell_type": "code",
   "execution_count": 15,
   "id": "30bae650",
   "metadata": {},
   "outputs": [
    {
     "data": {
      "text/html": [
       "<div>\n",
       "<style scoped>\n",
       "    .dataframe tbody tr th:only-of-type {\n",
       "        vertical-align: middle;\n",
       "    }\n",
       "\n",
       "    .dataframe tbody tr th {\n",
       "        vertical-align: top;\n",
       "    }\n",
       "\n",
       "    .dataframe thead th {\n",
       "        text-align: right;\n",
       "    }\n",
       "</style>\n",
       "<table border=\"1\" class=\"dataframe\">\n",
       "  <thead>\n",
       "    <tr style=\"text-align: right;\">\n",
       "      <th></th>\n",
       "      <th>id</th>\n",
       "      <th>date</th>\n",
       "      <th>price</th>\n",
       "      <th>bedrooms</th>\n",
       "      <th>bathrooms</th>\n",
       "      <th>sqft_living</th>\n",
       "      <th>sqft_lot</th>\n",
       "      <th>floors</th>\n",
       "      <th>waterfront</th>\n",
       "      <th>view</th>\n",
       "      <th>house_condition</th>\n",
       "      <th>grade</th>\n",
       "      <th>sqft_above</th>\n",
       "      <th>sqft_basement</th>\n",
       "      <th>year_built</th>\n",
       "      <th>zipcode</th>\n",
       "      <th>lat</th>\n",
       "      <th>long</th>\n",
       "      <th>sqft_living_15</th>\n",
       "    </tr>\n",
       "  </thead>\n",
       "  <tbody>\n",
       "    <tr>\n",
       "      <th>0</th>\n",
       "      <td>7129300520</td>\n",
       "      <td>2014-10-13</td>\n",
       "      <td>221900.0</td>\n",
       "      <td>3</td>\n",
       "      <td>1.00</td>\n",
       "      <td>1180</td>\n",
       "      <td>5650.0</td>\n",
       "      <td>1.0</td>\n",
       "      <td>0</td>\n",
       "      <td>1</td>\n",
       "      <td>3</td>\n",
       "      <td>7.0</td>\n",
       "      <td>1180.0</td>\n",
       "      <td>0</td>\n",
       "      <td>1955.0</td>\n",
       "      <td>98178.0</td>\n",
       "      <td>47.5112</td>\n",
       "      <td>-122.257</td>\n",
       "      <td>1340</td>\n",
       "    </tr>\n",
       "    <tr>\n",
       "      <th>1</th>\n",
       "      <td>6414100192</td>\n",
       "      <td>2014-12-09</td>\n",
       "      <td>538000.0</td>\n",
       "      <td>3</td>\n",
       "      <td>2.25</td>\n",
       "      <td>2570</td>\n",
       "      <td>7242.0</td>\n",
       "      <td>2.0</td>\n",
       "      <td>0</td>\n",
       "      <td>1</td>\n",
       "      <td>3</td>\n",
       "      <td>7.0</td>\n",
       "      <td>2170.0</td>\n",
       "      <td>400</td>\n",
       "      <td>1951.0</td>\n",
       "      <td>98125.0</td>\n",
       "      <td>47.7210</td>\n",
       "      <td>-122.319</td>\n",
       "      <td>1690</td>\n",
       "    </tr>\n",
       "    <tr>\n",
       "      <th>2</th>\n",
       "      <td>5631500400</td>\n",
       "      <td>2015-02-25</td>\n",
       "      <td>180000.0</td>\n",
       "      <td>2</td>\n",
       "      <td>1.00</td>\n",
       "      <td>770</td>\n",
       "      <td>10000.0</td>\n",
       "      <td>1.0</td>\n",
       "      <td>0</td>\n",
       "      <td>1</td>\n",
       "      <td>3</td>\n",
       "      <td>6.0</td>\n",
       "      <td>770.0</td>\n",
       "      <td>0</td>\n",
       "      <td>1933.0</td>\n",
       "      <td>98028.0</td>\n",
       "      <td>47.7379</td>\n",
       "      <td>-122.233</td>\n",
       "      <td>2720</td>\n",
       "    </tr>\n",
       "    <tr>\n",
       "      <th>3</th>\n",
       "      <td>2487200875</td>\n",
       "      <td>2014-12-09</td>\n",
       "      <td>604000.0</td>\n",
       "      <td>4</td>\n",
       "      <td>3.00</td>\n",
       "      <td>1960</td>\n",
       "      <td>5000.0</td>\n",
       "      <td>1.0</td>\n",
       "      <td>0</td>\n",
       "      <td>1</td>\n",
       "      <td>5</td>\n",
       "      <td>7.0</td>\n",
       "      <td>1050.0</td>\n",
       "      <td>910</td>\n",
       "      <td>1965.0</td>\n",
       "      <td>98136.0</td>\n",
       "      <td>47.5208</td>\n",
       "      <td>-122.393</td>\n",
       "      <td>1360</td>\n",
       "    </tr>\n",
       "    <tr>\n",
       "      <th>4</th>\n",
       "      <td>1954400510</td>\n",
       "      <td>2015-02-18</td>\n",
       "      <td>510000.0</td>\n",
       "      <td>3</td>\n",
       "      <td>2.00</td>\n",
       "      <td>1680</td>\n",
       "      <td>8080.0</td>\n",
       "      <td>1.0</td>\n",
       "      <td>0</td>\n",
       "      <td>1</td>\n",
       "      <td>3</td>\n",
       "      <td>8.0</td>\n",
       "      <td>1680.0</td>\n",
       "      <td>0</td>\n",
       "      <td>1987.0</td>\n",
       "      <td>98074.0</td>\n",
       "      <td>47.6168</td>\n",
       "      <td>-122.045</td>\n",
       "      <td>1800</td>\n",
       "    </tr>\n",
       "    <tr>\n",
       "      <th>...</th>\n",
       "      <td>...</td>\n",
       "      <td>...</td>\n",
       "      <td>...</td>\n",
       "      <td>...</td>\n",
       "      <td>...</td>\n",
       "      <td>...</td>\n",
       "      <td>...</td>\n",
       "      <td>...</td>\n",
       "      <td>...</td>\n",
       "      <td>...</td>\n",
       "      <td>...</td>\n",
       "      <td>...</td>\n",
       "      <td>...</td>\n",
       "      <td>...</td>\n",
       "      <td>...</td>\n",
       "      <td>...</td>\n",
       "      <td>...</td>\n",
       "      <td>...</td>\n",
       "      <td>...</td>\n",
       "    </tr>\n",
       "    <tr>\n",
       "      <th>20451</th>\n",
       "      <td>2997800021</td>\n",
       "      <td>2015-02-19</td>\n",
       "      <td>475000.0</td>\n",
       "      <td>3</td>\n",
       "      <td>2.50</td>\n",
       "      <td>1310</td>\n",
       "      <td>1294.0</td>\n",
       "      <td>2.0</td>\n",
       "      <td>0</td>\n",
       "      <td>1</td>\n",
       "      <td>3</td>\n",
       "      <td>8.0</td>\n",
       "      <td>1180.0</td>\n",
       "      <td>130</td>\n",
       "      <td>2008.0</td>\n",
       "      <td>98116.0</td>\n",
       "      <td>47.5773</td>\n",
       "      <td>-122.409</td>\n",
       "      <td>1330</td>\n",
       "    </tr>\n",
       "    <tr>\n",
       "      <th>20452</th>\n",
       "      <td>263000018</td>\n",
       "      <td>2014-05-21</td>\n",
       "      <td>360000.0</td>\n",
       "      <td>3</td>\n",
       "      <td>2.50</td>\n",
       "      <td>1530</td>\n",
       "      <td>1131.0</td>\n",
       "      <td>3.0</td>\n",
       "      <td>0</td>\n",
       "      <td>1</td>\n",
       "      <td>3</td>\n",
       "      <td>8.0</td>\n",
       "      <td>1530.0</td>\n",
       "      <td>0</td>\n",
       "      <td>2009.0</td>\n",
       "      <td>98103.0</td>\n",
       "      <td>47.6993</td>\n",
       "      <td>-122.346</td>\n",
       "      <td>1530</td>\n",
       "    </tr>\n",
       "    <tr>\n",
       "      <th>20453</th>\n",
       "      <td>6600060120</td>\n",
       "      <td>2015-02-23</td>\n",
       "      <td>400000.0</td>\n",
       "      <td>4</td>\n",
       "      <td>2.50</td>\n",
       "      <td>2310</td>\n",
       "      <td>5813.0</td>\n",
       "      <td>2.0</td>\n",
       "      <td>0</td>\n",
       "      <td>1</td>\n",
       "      <td>3</td>\n",
       "      <td>8.0</td>\n",
       "      <td>2310.0</td>\n",
       "      <td>0</td>\n",
       "      <td>2014.0</td>\n",
       "      <td>98146.0</td>\n",
       "      <td>47.5107</td>\n",
       "      <td>-122.362</td>\n",
       "      <td>1830</td>\n",
       "    </tr>\n",
       "    <tr>\n",
       "      <th>20454</th>\n",
       "      <td>291310100</td>\n",
       "      <td>2015-01-16</td>\n",
       "      <td>400000.0</td>\n",
       "      <td>3</td>\n",
       "      <td>2.50</td>\n",
       "      <td>1600</td>\n",
       "      <td>2388.0</td>\n",
       "      <td>2.0</td>\n",
       "      <td>0</td>\n",
       "      <td>1</td>\n",
       "      <td>3</td>\n",
       "      <td>8.0</td>\n",
       "      <td>1600.0</td>\n",
       "      <td>0</td>\n",
       "      <td>2004.0</td>\n",
       "      <td>98027.0</td>\n",
       "      <td>47.5345</td>\n",
       "      <td>-122.069</td>\n",
       "      <td>1410</td>\n",
       "    </tr>\n",
       "    <tr>\n",
       "      <th>20455</th>\n",
       "      <td>1523300157</td>\n",
       "      <td>2014-10-15</td>\n",
       "      <td>325000.0</td>\n",
       "      <td>2</td>\n",
       "      <td>0.75</td>\n",
       "      <td>1020</td>\n",
       "      <td>1076.0</td>\n",
       "      <td>2.0</td>\n",
       "      <td>0</td>\n",
       "      <td>1</td>\n",
       "      <td>3</td>\n",
       "      <td>7.0</td>\n",
       "      <td>1020.0</td>\n",
       "      <td>0</td>\n",
       "      <td>2008.0</td>\n",
       "      <td>98144.0</td>\n",
       "      <td>47.5941</td>\n",
       "      <td>-122.299</td>\n",
       "      <td>1020</td>\n",
       "    </tr>\n",
       "  </tbody>\n",
       "</table>\n",
       "<p>20456 rows × 19 columns</p>\n",
       "</div>"
      ],
      "text/plain": [
       "               id        date     price  bedrooms  bathrooms  sqft_living  \\\n",
       "0      7129300520  2014-10-13  221900.0         3       1.00         1180   \n",
       "1      6414100192  2014-12-09  538000.0         3       2.25         2570   \n",
       "2      5631500400  2015-02-25  180000.0         2       1.00          770   \n",
       "3      2487200875  2014-12-09  604000.0         4       3.00         1960   \n",
       "4      1954400510  2015-02-18  510000.0         3       2.00         1680   \n",
       "...           ...         ...       ...       ...        ...          ...   \n",
       "20451  2997800021  2015-02-19  475000.0         3       2.50         1310   \n",
       "20452   263000018  2014-05-21  360000.0         3       2.50         1530   \n",
       "20453  6600060120  2015-02-23  400000.0         4       2.50         2310   \n",
       "20454   291310100  2015-01-16  400000.0         3       2.50         1600   \n",
       "20455  1523300157  2014-10-15  325000.0         2       0.75         1020   \n",
       "\n",
       "       sqft_lot  floors  waterfront  view  house_condition  grade  sqft_above  \\\n",
       "0        5650.0     1.0           0     1                3    7.0      1180.0   \n",
       "1        7242.0     2.0           0     1                3    7.0      2170.0   \n",
       "2       10000.0     1.0           0     1                3    6.0       770.0   \n",
       "3        5000.0     1.0           0     1                5    7.0      1050.0   \n",
       "4        8080.0     1.0           0     1                3    8.0      1680.0   \n",
       "...         ...     ...         ...   ...              ...    ...         ...   \n",
       "20451    1294.0     2.0           0     1                3    8.0      1180.0   \n",
       "20452    1131.0     3.0           0     1                3    8.0      1530.0   \n",
       "20453    5813.0     2.0           0     1                3    8.0      2310.0   \n",
       "20454    2388.0     2.0           0     1                3    8.0      1600.0   \n",
       "20455    1076.0     2.0           0     1                3    7.0      1020.0   \n",
       "\n",
       "       sqft_basement  year_built  zipcode      lat     long  sqft_living_15  \n",
       "0                  0      1955.0  98178.0  47.5112 -122.257            1340  \n",
       "1                400      1951.0  98125.0  47.7210 -122.319            1690  \n",
       "2                  0      1933.0  98028.0  47.7379 -122.233            2720  \n",
       "3                910      1965.0  98136.0  47.5208 -122.393            1360  \n",
       "4                  0      1987.0  98074.0  47.6168 -122.045            1800  \n",
       "...              ...         ...      ...      ...      ...             ...  \n",
       "20451            130      2008.0  98116.0  47.5773 -122.409            1330  \n",
       "20452              0      2009.0  98103.0  47.6993 -122.346            1530  \n",
       "20453              0      2014.0  98146.0  47.5107 -122.362            1830  \n",
       "20454              0      2004.0  98027.0  47.5345 -122.069            1410  \n",
       "20455              0      2008.0  98144.0  47.5941 -122.299            1020  \n",
       "\n",
       "[20456 rows x 19 columns]"
      ]
     },
     "execution_count": 15,
     "metadata": {},
     "output_type": "execute_result"
    }
   ],
   "source": [
    "house"
   ]
  },
  {
   "cell_type": "markdown",
   "id": "3eea19eb",
   "metadata": {},
   "source": [
    "### Step 3: Determine independent and dependent variable"
   ]
  },
  {
   "cell_type": "code",
   "execution_count": 88,
   "id": "8138e69a",
   "metadata": {},
   "outputs": [],
   "source": [
    "# set X \n",
    "x1 = house.sqft_living\n",
    "# set Y \n",
    "y = house.price"
   ]
  },
  {
   "cell_type": "code",
   "execution_count": 41,
   "id": "6820160a",
   "metadata": {},
   "outputs": [
    {
     "data": {
      "text/plain": [
       "(0.0, 1721839.55)"
      ]
     },
     "execution_count": 41,
     "metadata": {},
     "output_type": "execute_result"
    },
    {
     "data": {
      "image/png": "[encoded data removed]",
      "text/plain": [
       "<Figure size 640x480 with 1 Axes>"
      ]
     },
     "metadata": {},
     "output_type": "display_data"
    }
   ],
   "source": [
    "plt.scatter(x1, y)\n",
    "plt.xlabel('House Square Footage')\n",
    "plt.ylabel('Price of House')\n",
    "plt.xlim(0)\n",
    "plt.ylim(0)"
   ]
  },
  {
   "cell_type": "markdown",
   "id": "7aad8890",
   "metadata": {},
   "source": [
    "### Step 4: Fit Regression "
   ]
  },
  {
   "cell_type": "markdown",
   "id": "21c6a9b7",
   "metadata": {},
   "source": [
    "Solution below is for example only. Results may vary depending on variables chosen by student to use in linear regression model and which statistical package is used for linear regression model."
   ]
  },
  {
   "cell_type": "code",
   "execution_count": 44,
   "id": "87025c16",
   "metadata": {
    "scrolled": false
   },
   "outputs": [
    {
     "data": {
      "text/html": [
       "<table class=\"simpletable\">\n",
       "<caption>OLS Regression Results</caption>\n",
       "<tr>\n",
       "  <th>Dep. Variable:</th>          <td>price</td>      <th>  R-squared:         </th>  <td>   0.376</td>  \n",
       "</tr>\n",
       "<tr>\n",
       "  <th>Model:</th>                   <td>OLS</td>       <th>  Adj. R-squared:    </th>  <td>   0.376</td>  \n",
       "</tr>\n",
       "<tr>\n",
       "  <th>Method:</th>             <td>Least Squares</td>  <th>  F-statistic:       </th>  <td>1.231e+04</td> \n",
       "</tr>\n",
       "<tr>\n",
       "  <th>Date:</th>             <td>Tue, 21 Mar 2023</td> <th>  Prob (F-statistic):</th>   <td>  0.00</td>   \n",
       "</tr>\n",
       "<tr>\n",
       "  <th>Time:</th>                 <td>01:29:48</td>     <th>  Log-Likelihood:    </th> <td>-2.7761e+05</td>\n",
       "</tr>\n",
       "<tr>\n",
       "  <th>No. Observations:</th>      <td> 20456</td>      <th>  AIC:               </th>  <td>5.552e+05</td> \n",
       "</tr>\n",
       "<tr>\n",
       "  <th>Df Residuals:</th>          <td> 20454</td>      <th>  BIC:               </th>  <td>5.552e+05</td> \n",
       "</tr>\n",
       "<tr>\n",
       "  <th>Df Model:</th>              <td>     1</td>      <th>                     </th>      <td> </td>     \n",
       "</tr>\n",
       "<tr>\n",
       "  <th>Covariance Type:</th>      <td>nonrobust</td>    <th>                     </th>      <td> </td>     \n",
       "</tr>\n",
       "</table>\n",
       "<table class=\"simpletable\">\n",
       "<tr>\n",
       "       <td></td>          <th>coef</th>     <th>std err</th>      <th>t</th>      <th>P>|t|</th>  <th>[0.025</th>    <th>0.975]</th>  \n",
       "</tr>\n",
       "<tr>\n",
       "  <th>const</th>       <td> 9.213e+04</td> <td> 3791.541</td> <td>   24.298</td> <td> 0.000</td> <td> 8.47e+04</td> <td> 9.96e+04</td>\n",
       "</tr>\n",
       "<tr>\n",
       "  <th>sqft_living</th> <td>  202.9775</td> <td>    1.829</td> <td>  110.966</td> <td> 0.000</td> <td>  199.392</td> <td>  206.563</td>\n",
       "</tr>\n",
       "</table>\n",
       "<table class=\"simpletable\">\n",
       "<tr>\n",
       "  <th>Omnibus:</th>       <td>3900.816</td> <th>  Durbin-Watson:     </th> <td>   1.934</td>\n",
       "</tr>\n",
       "<tr>\n",
       "  <th>Prob(Omnibus):</th>  <td> 0.000</td>  <th>  Jarque-Bera (JB):  </th> <td>9054.676</td>\n",
       "</tr>\n",
       "<tr>\n",
       "  <th>Skew:</th>           <td> 1.084</td>  <th>  Prob(JB):          </th> <td>    0.00</td>\n",
       "</tr>\n",
       "<tr>\n",
       "  <th>Kurtosis:</th>       <td> 5.434</td>  <th>  Cond. No.          </th> <td>5.93e+03</td>\n",
       "</tr>\n",
       "</table><br/><br/>Notes:<br/>[1] Standard Errors assume that the covariance matrix of the errors is correctly specified.<br/>[2] The condition number is large, 5.93e+03. This might indicate that there are<br/>strong multicollinearity or other numerical problems."
      ],
      "text/plain": [
       "<class 'statsmodels.iolib.summary.Summary'>\n",
       "\"\"\"\n",
       "                            OLS Regression Results                            \n",
       "==============================================================================\n",
       "Dep. Variable:                  price   R-squared:                       0.376\n",
       "Model:                            OLS   Adj. R-squared:                  0.376\n",
       "Method:                 Least Squares   F-statistic:                 1.231e+04\n",
       "Date:                Tue, 21 Mar 2023   Prob (F-statistic):               0.00\n",
       "Time:                        01:29:48   Log-Likelihood:            -2.7761e+05\n",
       "No. Observations:               20456   AIC:                         5.552e+05\n",
       "Df Residuals:                   20454   BIC:                         5.552e+05\n",
       "Df Model:                           1                                         \n",
       "Covariance Type:            nonrobust                                         \n",
       "===============================================================================\n",
       "                  coef    std err          t      P>|t|      [0.025      0.975]\n",
       "-------------------------------------------------------------------------------\n",
       "const        9.213e+04   3791.541     24.298      0.000    8.47e+04    9.96e+04\n",
       "sqft_living   202.9775      1.829    110.966      0.000     199.392     206.563\n",
       "==============================================================================\n",
       "Omnibus:                     3900.816   Durbin-Watson:                   1.934\n",
       "Prob(Omnibus):                  0.000   Jarque-Bera (JB):             9054.676\n",
       "Skew:                           1.084   Prob(JB):                         0.00\n",
       "Kurtosis:                       5.434   Cond. No.                     5.93e+03\n",
       "==============================================================================\n",
       "\n",
       "Notes:\n",
       "[1] Standard Errors assume that the covariance matrix of the errors is correctly specified.\n",
       "[2] The condition number is large, 5.93e+03. This might indicate that there are\n",
       "strong multicollinearity or other numerical problems.\n",
       "\"\"\""
      ]
     },
     "execution_count": 44,
     "metadata": {},
     "output_type": "execute_result"
    }
   ],
   "source": [
    "# fit model to X and Y variables (you will need to make more cells)\n",
    "x = sm.add_constant(x1)\n",
    "results = sm.OLS(y, x).fit()\n",
    "results.summary()"
   ]
  },
  {
   "cell_type": "code",
   "execution_count": 47,
   "id": "8726ad7b",
   "metadata": {},
   "outputs": [
    {
     "data": {
      "image/png": "[encoded data removed]",
      "text/plain": [
       "<Figure size 640x480 with 1 Axes>"
      ]
     },
     "metadata": {},
     "output_type": "display_data"
    }
   ],
   "source": [
    "plt.scatter(x1, y)\n",
    "plt.xlabel('House Square Footage')\n",
    "plt.ylabel('Price of House')\n",
    "plt.xlim(0)\n",
    "plt.ylim(0)\n",
    "yhat = 202.9775*x1 + 9.213e+04\n",
    "fig = plt.plot(x1, yhat, lw = 2, c = \"orange\", label = \"regression line\")"
   ]
  },
  {
   "cell_type": "markdown",
   "id": "86eb0c71",
   "metadata": {},
   "source": [
    "### Step 5: Interpret Model Summary "
   ]
  },
  {
   "cell_type": "code",
   "execution_count": 50,
   "id": "db827182",
   "metadata": {},
   "outputs": [],
   "source": [
    "# print out and interpret model summary // terms identified below"
   ]
  },
  {
   "cell_type": "markdown",
   "id": "b77e98d8",
   "metadata": {},
   "source": [
    "Interpret the following from your model:\n",
    "\n",
    "- R-squared \n",
    "\n",
    "The value is low (0.376), so there is a relatively low level of explanatory power of the square footage of the house when it comes to the price. \n",
    "\n",
    "- Coefficient of independent variable\n",
    "\n",
    "The coefficient is 202.9775. It is positive, so as square footage increases, the mean of the house price does as well.\n",
    "\n",
    "- P-value of T-statistic\n",
    "\n",
    "The p-value of the T-statistic is 0, so square footage is a significant variable that affects price.\n",
    "\n",
    "- P-value of F-statistic\n",
    "\n",
    "Same goes for the p-value of the F-statistic. It is 0 and is significant for the same reason."
   ]
  },
  {
   "cell_type": "markdown",
   "id": "240faf5b",
   "metadata": {},
   "source": [
    "### Step 6: Predict Values"
   ]
  },
  {
   "cell_type": "code",
   "execution_count": 51,
   "id": "97ce3917",
   "metadata": {},
   "outputs": [
    {
     "data": {
      "text/html": [
       "<div>\n",
       "<style scoped>\n",
       "    .dataframe tbody tr th:only-of-type {\n",
       "        vertical-align: middle;\n",
       "    }\n",
       "\n",
       "    .dataframe tbody tr th {\n",
       "        vertical-align: top;\n",
       "    }\n",
       "\n",
       "    .dataframe thead th {\n",
       "        text-align: right;\n",
       "    }\n",
       "</style>\n",
       "<table border=\"1\" class=\"dataframe\">\n",
       "  <thead>\n",
       "    <tr style=\"text-align: right;\">\n",
       "      <th></th>\n",
       "      <th>const</th>\n",
       "      <th>sqft_living</th>\n",
       "    </tr>\n",
       "  </thead>\n",
       "  <tbody>\n",
       "    <tr>\n",
       "      <th>0</th>\n",
       "      <td>1.0</td>\n",
       "      <td>1180</td>\n",
       "    </tr>\n",
       "    <tr>\n",
       "      <th>1</th>\n",
       "      <td>1.0</td>\n",
       "      <td>2570</td>\n",
       "    </tr>\n",
       "    <tr>\n",
       "      <th>2</th>\n",
       "      <td>1.0</td>\n",
       "      <td>770</td>\n",
       "    </tr>\n",
       "    <tr>\n",
       "      <th>3</th>\n",
       "      <td>1.0</td>\n",
       "      <td>1960</td>\n",
       "    </tr>\n",
       "    <tr>\n",
       "      <th>4</th>\n",
       "      <td>1.0</td>\n",
       "      <td>1680</td>\n",
       "    </tr>\n",
       "    <tr>\n",
       "      <th>...</th>\n",
       "      <td>...</td>\n",
       "      <td>...</td>\n",
       "    </tr>\n",
       "    <tr>\n",
       "      <th>20451</th>\n",
       "      <td>1.0</td>\n",
       "      <td>1310</td>\n",
       "    </tr>\n",
       "    <tr>\n",
       "      <th>20452</th>\n",
       "      <td>1.0</td>\n",
       "      <td>1530</td>\n",
       "    </tr>\n",
       "    <tr>\n",
       "      <th>20453</th>\n",
       "      <td>1.0</td>\n",
       "      <td>2310</td>\n",
       "    </tr>\n",
       "    <tr>\n",
       "      <th>20454</th>\n",
       "      <td>1.0</td>\n",
       "      <td>1600</td>\n",
       "    </tr>\n",
       "    <tr>\n",
       "      <th>20455</th>\n",
       "      <td>1.0</td>\n",
       "      <td>1020</td>\n",
       "    </tr>\n",
       "  </tbody>\n",
       "</table>\n",
       "<p>20456 rows × 2 columns</p>\n",
       "</div>"
      ],
      "text/plain": [
       "       const  sqft_living\n",
       "0        1.0         1180\n",
       "1        1.0         2570\n",
       "2        1.0          770\n",
       "3        1.0         1960\n",
       "4        1.0         1680\n",
       "...      ...          ...\n",
       "20451    1.0         1310\n",
       "20452    1.0         1530\n",
       "20453    1.0         2310\n",
       "20454    1.0         1600\n",
       "20455    1.0         1020\n",
       "\n",
       "[20456 rows x 2 columns]"
      ]
     },
     "execution_count": 51,
     "metadata": {},
     "output_type": "execute_result"
    }
   ],
   "source": [
    "x"
   ]
  },
  {
   "cell_type": "code",
   "execution_count": 53,
   "id": "b2ccd4e8",
   "metadata": {},
   "outputs": [
    {
     "data": {
      "text/html": [
       "<div>\n",
       "<style scoped>\n",
       "    .dataframe tbody tr th:only-of-type {\n",
       "        vertical-align: middle;\n",
       "    }\n",
       "\n",
       "    .dataframe tbody tr th {\n",
       "        vertical-align: top;\n",
       "    }\n",
       "\n",
       "    .dataframe thead th {\n",
       "        text-align: right;\n",
       "    }\n",
       "</style>\n",
       "<table border=\"1\" class=\"dataframe\">\n",
       "  <thead>\n",
       "    <tr style=\"text-align: right;\">\n",
       "      <th></th>\n",
       "      <th>const</th>\n",
       "      <th>sqft_living</th>\n",
       "    </tr>\n",
       "  </thead>\n",
       "  <tbody>\n",
       "    <tr>\n",
       "      <th>0</th>\n",
       "      <td>1</td>\n",
       "      <td>1100</td>\n",
       "    </tr>\n",
       "  </tbody>\n",
       "</table>\n",
       "</div>"
      ],
      "text/plain": [
       "   const  sqft_living\n",
       "0      1         1100"
      ]
     },
     "execution_count": 53,
     "metadata": {},
     "output_type": "execute_result"
    }
   ],
   "source": [
    "new_data = pd.DataFrame({'const': 1, 'sqft_living': [1100]})\n",
    "new_data = new_data[['const', 'sqft_living']]\n",
    "new_data"
   ]
  },
  {
   "cell_type": "code",
   "execution_count": 57,
   "id": "1f1f7457",
   "metadata": {},
   "outputs": [],
   "source": [
    "new_data.rename(index = {0: 20456}, inplace = True)"
   ]
  },
  {
   "cell_type": "code",
   "execution_count": 58,
   "id": "036cec34",
   "metadata": {},
   "outputs": [
    {
     "data": {
      "text/html": [
       "<div>\n",
       "<style scoped>\n",
       "    .dataframe tbody tr th:only-of-type {\n",
       "        vertical-align: middle;\n",
       "    }\n",
       "\n",
       "    .dataframe tbody tr th {\n",
       "        vertical-align: top;\n",
       "    }\n",
       "\n",
       "    .dataframe thead th {\n",
       "        text-align: right;\n",
       "    }\n",
       "</style>\n",
       "<table border=\"1\" class=\"dataframe\">\n",
       "  <thead>\n",
       "    <tr style=\"text-align: right;\">\n",
       "      <th></th>\n",
       "      <th>const</th>\n",
       "      <th>sqft_living</th>\n",
       "    </tr>\n",
       "  </thead>\n",
       "  <tbody>\n",
       "    <tr>\n",
       "      <th>20456</th>\n",
       "      <td>1</td>\n",
       "      <td>1100</td>\n",
       "    </tr>\n",
       "  </tbody>\n",
       "</table>\n",
       "</div>"
      ],
      "text/plain": [
       "       const  sqft_living\n",
       "20456      1         1100"
      ]
     },
     "execution_count": 58,
     "metadata": {},
     "output_type": "execute_result"
    }
   ],
   "source": [
    "new_data"
   ]
  },
  {
   "cell_type": "code",
   "execution_count": 59,
   "id": "0d0ccb97",
   "metadata": {},
   "outputs": [
    {
     "data": {
      "text/plain": [
       "20456    315404.008401\n",
       "dtype: float64"
      ]
     },
     "execution_count": 59,
     "metadata": {},
     "output_type": "execute_result"
    }
   ],
   "source": [
    "predictions = results.predict(new_data)\n",
    "predictions"
   ]
  },
  {
   "cell_type": "markdown",
   "id": "4552dd4c",
   "metadata": {},
   "source": [
    "Predict that a 1,100 sqft home will cost about $315,404.01."
   ]
  },
  {
   "cell_type": "markdown",
   "id": "34b4cfd1",
   "metadata": {},
   "source": [
    "# Part 3 - Multiple Linear Regression"
   ]
  },
  {
   "cell_type": "markdown",
   "id": "a055f1f6",
   "metadata": {},
   "source": [
    "### Step 1: From Data Exploration in Part 2, Pick Another Independent Variable "
   ]
  },
  {
   "cell_type": "code",
   "execution_count": 114,
   "id": "e73ac274",
   "metadata": {},
   "outputs": [],
   "source": [
    "x2 = house[['sqft_living', 'house_condition']]"
   ]
  },
  {
   "cell_type": "markdown",
   "id": "8434f441",
   "metadata": {},
   "source": [
    "### Step 2: Fit A New Multiple Linear Regression Model to the New Independent Variables"
   ]
  },
  {
   "cell_type": "markdown",
   "id": "29cc17a7",
   "metadata": {},
   "source": [
    "Solution below is for example only. Results may vary depending on variables chosen by student to use in linear regression model. "
   ]
  },
  {
   "cell_type": "code",
   "execution_count": 115,
   "id": "fc9ba21a",
   "metadata": {},
   "outputs": [],
   "source": [
    "reg =  LinearRegression()"
   ]
  },
  {
   "cell_type": "code",
   "execution_count": 116,
   "id": "118eff9b",
   "metadata": {},
   "outputs": [
    {
     "data": {
      "text/html": [
       "<div>\n",
       "<style scoped>\n",
       "    .dataframe tbody tr th:only-of-type {\n",
       "        vertical-align: middle;\n",
       "    }\n",
       "\n",
       "    .dataframe tbody tr th {\n",
       "        vertical-align: top;\n",
       "    }\n",
       "\n",
       "    .dataframe thead th {\n",
       "        text-align: right;\n",
       "    }\n",
       "</style>\n",
       "<table border=\"1\" class=\"dataframe\">\n",
       "  <thead>\n",
       "    <tr style=\"text-align: right;\">\n",
       "      <th></th>\n",
       "      <th>id</th>\n",
       "      <th>price</th>\n",
       "      <th>bedrooms</th>\n",
       "      <th>bathrooms</th>\n",
       "      <th>sqft_living</th>\n",
       "      <th>sqft_lot</th>\n",
       "      <th>floors</th>\n",
       "      <th>waterfront</th>\n",
       "      <th>view</th>\n",
       "      <th>house_condition</th>\n",
       "      <th>grade</th>\n",
       "      <th>sqft_above</th>\n",
       "      <th>sqft_basement</th>\n",
       "      <th>year_built</th>\n",
       "      <th>zipcode</th>\n",
       "      <th>lat</th>\n",
       "      <th>long</th>\n",
       "      <th>sqft_living_15</th>\n",
       "    </tr>\n",
       "  </thead>\n",
       "  <tbody>\n",
       "    <tr>\n",
       "      <th>count</th>\n",
       "      <td>2.045600e+04</td>\n",
       "      <td>2.045600e+04</td>\n",
       "      <td>20456.000000</td>\n",
       "      <td>20456.000000</td>\n",
       "      <td>20456.000000</td>\n",
       "      <td>20456.000000</td>\n",
       "      <td>20456.000000</td>\n",
       "      <td>20456.000000</td>\n",
       "      <td>20456.000000</td>\n",
       "      <td>20456.000000</td>\n",
       "      <td>20456.000000</td>\n",
       "      <td>20456.000000</td>\n",
       "      <td>20456.000000</td>\n",
       "      <td>20456.000000</td>\n",
       "      <td>20452.000000</td>\n",
       "      <td>20456.000000</td>\n",
       "      <td>20456.000000</td>\n",
       "      <td>20456.000000</td>\n",
       "    </tr>\n",
       "    <tr>\n",
       "      <th>mean</th>\n",
       "      <td>4.634802e+09</td>\n",
       "      <td>4.863355e+05</td>\n",
       "      <td>3.310422</td>\n",
       "      <td>2.032062</td>\n",
       "      <td>1942.120258</td>\n",
       "      <td>10302.509875</td>\n",
       "      <td>1.473455</td>\n",
       "      <td>0.004155</td>\n",
       "      <td>1.179165</td>\n",
       "      <td>3.411322</td>\n",
       "      <td>7.514241</td>\n",
       "      <td>1679.184542</td>\n",
       "      <td>262.887808</td>\n",
       "      <td>1969.985041</td>\n",
       "      <td>95297.064395</td>\n",
       "      <td>47.559194</td>\n",
       "      <td>-122.219543</td>\n",
       "      <td>1902.208594</td>\n",
       "    </tr>\n",
       "    <tr>\n",
       "      <th>std</th>\n",
       "      <td>2.877504e+09</td>\n",
       "      <td>2.398423e+05</td>\n",
       "      <td>0.855849</td>\n",
       "      <td>0.689049</td>\n",
       "      <td>724.345438</td>\n",
       "      <td>12700.282036</td>\n",
       "      <td>0.537955</td>\n",
       "      <td>0.064329</td>\n",
       "      <td>0.661116</td>\n",
       "      <td>0.652286</td>\n",
       "      <td>1.026879</td>\n",
       "      <td>683.115368</td>\n",
       "      <td>390.859372</td>\n",
       "      <td>29.355600</td>\n",
       "      <td>15428.241686</td>\n",
       "      <td>0.139330</td>\n",
       "      <td>0.138576</td>\n",
       "      <td>585.143495</td>\n",
       "    </tr>\n",
       "    <tr>\n",
       "      <th>min</th>\n",
       "      <td>1.000102e+06</td>\n",
       "      <td>3.209000e+03</td>\n",
       "      <td>1.000000</td>\n",
       "      <td>0.000000</td>\n",
       "      <td>370.000000</td>\n",
       "      <td>520.000000</td>\n",
       "      <td>1.000000</td>\n",
       "      <td>0.000000</td>\n",
       "      <td>1.000000</td>\n",
       "      <td>1.000000</td>\n",
       "      <td>3.000000</td>\n",
       "      <td>300.000000</td>\n",
       "      <td>0.000000</td>\n",
       "      <td>1900.000000</td>\n",
       "      <td>9801.000000</td>\n",
       "      <td>47.155900</td>\n",
       "      <td>-122.512000</td>\n",
       "      <td>399.000000</td>\n",
       "    </tr>\n",
       "    <tr>\n",
       "      <th>25%</th>\n",
       "      <td>2.161850e+09</td>\n",
       "      <td>3.120000e+05</td>\n",
       "      <td>3.000000</td>\n",
       "      <td>1.500000</td>\n",
       "      <td>1390.000000</td>\n",
       "      <td>5000.000000</td>\n",
       "      <td>1.000000</td>\n",
       "      <td>0.000000</td>\n",
       "      <td>1.000000</td>\n",
       "      <td>3.000000</td>\n",
       "      <td>7.000000</td>\n",
       "      <td>1170.000000</td>\n",
       "      <td>0.000000</td>\n",
       "      <td>1950.750000</td>\n",
       "      <td>98032.000000</td>\n",
       "      <td>47.467200</td>\n",
       "      <td>-122.332000</td>\n",
       "      <td>1460.000000</td>\n",
       "    </tr>\n",
       "    <tr>\n",
       "      <th>50%</th>\n",
       "      <td>3.992700e+09</td>\n",
       "      <td>4.350000e+05</td>\n",
       "      <td>3.000000</td>\n",
       "      <td>2.000000</td>\n",
       "      <td>1840.000000</td>\n",
       "      <td>7412.000000</td>\n",
       "      <td>1.000000</td>\n",
       "      <td>0.000000</td>\n",
       "      <td>1.000000</td>\n",
       "      <td>3.000000</td>\n",
       "      <td>7.000000</td>\n",
       "      <td>1500.000000</td>\n",
       "      <td>0.000000</td>\n",
       "      <td>1972.000000</td>\n",
       "      <td>98072.000000</td>\n",
       "      <td>47.569650</td>\n",
       "      <td>-122.244500</td>\n",
       "      <td>1790.000000</td>\n",
       "    </tr>\n",
       "    <tr>\n",
       "      <th>75%</th>\n",
       "      <td>7.387500e+09</td>\n",
       "      <td>6.020000e+05</td>\n",
       "      <td>4.000000</td>\n",
       "      <td>2.500000</td>\n",
       "      <td>2410.000000</td>\n",
       "      <td>10022.250000</td>\n",
       "      <td>2.000000</td>\n",
       "      <td>0.000000</td>\n",
       "      <td>1.000000</td>\n",
       "      <td>4.000000</td>\n",
       "      <td>8.000000</td>\n",
       "      <td>2080.000000</td>\n",
       "      <td>520.000000</td>\n",
       "      <td>1995.000000</td>\n",
       "      <td>98118.000000</td>\n",
       "      <td>47.679400</td>\n",
       "      <td>-122.134000</td>\n",
       "      <td>2260.000000</td>\n",
       "    </tr>\n",
       "    <tr>\n",
       "      <th>max</th>\n",
       "      <td>9.900000e+09</td>\n",
       "      <td>1.640000e+06</td>\n",
       "      <td>6.000000</td>\n",
       "      <td>4.250000</td>\n",
       "      <td>4600.000000</td>\n",
       "      <td>133729.000000</td>\n",
       "      <td>3.500000</td>\n",
       "      <td>1.000000</td>\n",
       "      <td>5.000000</td>\n",
       "      <td>5.000000</td>\n",
       "      <td>12.000000</td>\n",
       "      <td>3960.000000</td>\n",
       "      <td>1540.000000</td>\n",
       "      <td>2050.000000</td>\n",
       "      <td>98199.000000</td>\n",
       "      <td>47.777600</td>\n",
       "      <td>-121.315000</td>\n",
       "      <td>3790.000000</td>\n",
       "    </tr>\n",
       "  </tbody>\n",
       "</table>\n",
       "</div>"
      ],
      "text/plain": [
       "                 id         price      bedrooms     bathrooms   sqft_living  \\\n",
       "count  2.045600e+04  2.045600e+04  20456.000000  20456.000000  20456.000000   \n",
       "mean   4.634802e+09  4.863355e+05      3.310422      2.032062   1942.120258   \n",
       "std    2.877504e+09  2.398423e+05      0.855849      0.689049    724.345438   \n",
       "min    1.000102e+06  3.209000e+03      1.000000      0.000000    370.000000   \n",
       "25%    2.161850e+09  3.120000e+05      3.000000      1.500000   1390.000000   \n",
       "50%    3.992700e+09  4.350000e+05      3.000000      2.000000   1840.000000   \n",
       "75%    7.387500e+09  6.020000e+05      4.000000      2.500000   2410.000000   \n",
       "max    9.900000e+09  1.640000e+06      6.000000      4.250000   4600.000000   \n",
       "\n",
       "            sqft_lot        floors    waterfront          view  \\\n",
       "count   20456.000000  20456.000000  20456.000000  20456.000000   \n",
       "mean    10302.509875      1.473455      0.004155      1.179165   \n",
       "std     12700.282036      0.537955      0.064329      0.661116   \n",
       "min       520.000000      1.000000      0.000000      1.000000   \n",
       "25%      5000.000000      1.000000      0.000000      1.000000   \n",
       "50%      7412.000000      1.000000      0.000000      1.000000   \n",
       "75%     10022.250000      2.000000      0.000000      1.000000   \n",
       "max    133729.000000      3.500000      1.000000      5.000000   \n",
       "\n",
       "       house_condition         grade    sqft_above  sqft_basement  \\\n",
       "count     20456.000000  20456.000000  20456.000000   20456.000000   \n",
       "mean          3.411322      7.514241   1679.184542     262.887808   \n",
       "std           0.652286      1.026879    683.115368     390.859372   \n",
       "min           1.000000      3.000000    300.000000       0.000000   \n",
       "25%           3.000000      7.000000   1170.000000       0.000000   \n",
       "50%           3.000000      7.000000   1500.000000       0.000000   \n",
       "75%           4.000000      8.000000   2080.000000     520.000000   \n",
       "max           5.000000     12.000000   3960.000000    1540.000000   \n",
       "\n",
       "         year_built       zipcode           lat          long  sqft_living_15  \n",
       "count  20456.000000  20452.000000  20456.000000  20456.000000    20456.000000  \n",
       "mean    1969.985041  95297.064395     47.559194   -122.219543     1902.208594  \n",
       "std       29.355600  15428.241686      0.139330      0.138576      585.143495  \n",
       "min     1900.000000   9801.000000     47.155900   -122.512000      399.000000  \n",
       "25%     1950.750000  98032.000000     47.467200   -122.332000     1460.000000  \n",
       "50%     1972.000000  98072.000000     47.569650   -122.244500     1790.000000  \n",
       "75%     1995.000000  98118.000000     47.679400   -122.134000     2260.000000  \n",
       "max     2050.000000  98199.000000     47.777600   -121.315000     3790.000000  "
      ]
     },
     "execution_count": 116,
     "metadata": {},
     "output_type": "execute_result"
    }
   ],
   "source": [
    "house.describe()"
   ]
  },
  {
   "cell_type": "code",
   "execution_count": 118,
   "id": "e58a3f12",
   "metadata": {},
   "outputs": [
    {
     "data": {
      "text/html": [
       "<style>#sk-container-id-4 {color: black;background-color: white;}#sk-container-id-4 pre{padding: 0;}#sk-container-id-4 div.sk-toggleable {background-color: white;}#sk-container-id-4 label.sk-toggleable__label {cursor: pointer;display: block;width: 100%;margin-bottom: 0;padding: 0.3em;box-sizing: border-box;text-align: center;}#sk-container-id-4 label.sk-toggleable__label-arrow:before {content: \"▸\";float: left;margin-right: 0.25em;color: #696969;}#sk-container-id-4 label.sk-toggleable__label-arrow:hover:before {color: black;}#sk-container-id-4 div.sk-estimator:hover label.sk-toggleable__label-arrow:before {color: black;}#sk-container-id-4 div.sk-toggleable__content {max-height: 0;max-width: 0;overflow: hidden;text-align: left;background-color: #f0f8ff;}#sk-container-id-4 div.sk-toggleable__content pre {margin: 0.2em;color: black;border-radius: 0.25em;background-color: #f0f8ff;}#sk-container-id-4 input.sk-toggleable__control:checked~div.sk-toggleable__content {max-height: 200px;max-width: 100%;overflow: auto;}#sk-container-id-4 input.sk-toggleable__control:checked~label.sk-toggleable__label-arrow:before {content: \"▾\";}#sk-container-id-4 div.sk-estimator input.sk-toggleable__control:checked~label.sk-toggleable__label {background-color: #d4ebff;}#sk-container-id-4 div.sk-label input.sk-toggleable__control:checked~label.sk-toggleable__label {background-color: #d4ebff;}#sk-container-id-4 input.sk-hidden--visually {border: 0;clip: rect(1px 1px 1px 1px);clip: rect(1px, 1px, 1px, 1px);height: 1px;margin: -1px;overflow: hidden;padding: 0;position: absolute;width: 1px;}#sk-container-id-4 div.sk-estimator {font-family: monospace;background-color: #f0f8ff;border: 1px dotted black;border-radius: 0.25em;box-sizing: border-box;margin-bottom: 0.5em;}#sk-container-id-4 div.sk-estimator:hover {background-color: #d4ebff;}#sk-container-id-4 div.sk-parallel-item::after {content: \"\";width: 100%;border-bottom: 1px solid gray;flex-grow: 1;}#sk-container-id-4 div.sk-label:hover label.sk-toggleable__label {background-color: #d4ebff;}#sk-container-id-4 div.sk-serial::before {content: \"\";position: absolute;border-left: 1px solid gray;box-sizing: border-box;top: 0;bottom: 0;left: 50%;z-index: 0;}#sk-container-id-4 div.sk-serial {display: flex;flex-direction: column;align-items: center;background-color: white;padding-right: 0.2em;padding-left: 0.2em;position: relative;}#sk-container-id-4 div.sk-item {position: relative;z-index: 1;}#sk-container-id-4 div.sk-parallel {display: flex;align-items: stretch;justify-content: center;background-color: white;position: relative;}#sk-container-id-4 div.sk-item::before, #sk-container-id-4 div.sk-parallel-item::before {content: \"\";position: absolute;border-left: 1px solid gray;box-sizing: border-box;top: 0;bottom: 0;left: 50%;z-index: -1;}#sk-container-id-4 div.sk-parallel-item {display: flex;flex-direction: column;z-index: 1;position: relative;background-color: white;}#sk-container-id-4 div.sk-parallel-item:first-child::after {align-self: flex-end;width: 50%;}#sk-container-id-4 div.sk-parallel-item:last-child::after {align-self: flex-start;width: 50%;}#sk-container-id-4 div.sk-parallel-item:only-child::after {width: 0;}#sk-container-id-4 div.sk-dashed-wrapped {border: 1px dashed gray;margin: 0 0.4em 0.5em 0.4em;box-sizing: border-box;padding-bottom: 0.4em;background-color: white;}#sk-container-id-4 div.sk-label label {font-family: monospace;font-weight: bold;display: inline-block;line-height: 1.2em;}#sk-container-id-4 div.sk-label-container {text-align: center;}#sk-container-id-4 div.sk-container {/* jupyter's `normalize.less` sets `[hidden] { display: none; }` but bootstrap.min.css set `[hidden] { display: none !important; }` so we also need the `!important` here to be able to override the default hidden behavior on the sphinx rendered scikit-learn.org. See: https://github.com/scikit-learn/scikit-learn/issues/21755 */display: inline-block !important;position: relative;}#sk-container-id-4 div.sk-text-repr-fallback {display: none;}</style><div id=\"sk-container-id-4\" class=\"sk-top-container\"><div class=\"sk-text-repr-fallback\"><pre>LinearRegression()</pre><b>In a Jupyter environment, please rerun this cell to show the HTML representation or trust the notebook. <br />On GitHub, the HTML representation is unable to render, please try loading this page with nbviewer.org.</b></div><div class=\"sk-container\" hidden><div class=\"sk-item\"><div class=\"sk-estimator sk-toggleable\"><input class=\"sk-toggleable__control sk-hidden--visually\" id=\"sk-estimator-id-4\" type=\"checkbox\" checked><label for=\"sk-estimator-id-4\" class=\"sk-toggleable__label sk-toggleable__label-arrow\">LinearRegression</label><div class=\"sk-toggleable__content\"><pre>LinearRegression()</pre></div></div></div></div></div>"
      ],
      "text/plain": [
       "LinearRegression()"
      ]
     },
     "execution_count": 118,
     "metadata": {},
     "output_type": "execute_result"
    }
   ],
   "source": [
    "reg.fit(x2, y)"
   ]
  },
  {
   "cell_type": "code",
   "execution_count": 119,
   "id": "02d4d4f1",
   "metadata": {},
   "outputs": [
    {
     "data": {
      "text/plain": [
       "array([  204.57420356, 34270.546957  ])"
      ]
     },
     "execution_count": 119,
     "metadata": {},
     "output_type": "execute_result"
    }
   ],
   "source": [
    "reg.coef_"
   ]
  },
  {
   "cell_type": "code",
   "execution_count": 120,
   "id": "6f1efcb3",
   "metadata": {},
   "outputs": [
    {
     "data": {
      "text/plain": [
       "-27880.06837574439"
      ]
     },
     "execution_count": 120,
     "metadata": {},
     "output_type": "execute_result"
    }
   ],
   "source": [
    "reg.intercept_"
   ]
  },
  {
   "cell_type": "code",
   "execution_count": 129,
   "id": "ed186d91",
   "metadata": {},
   "outputs": [
    {
     "data": {
      "text/plain": [
       "0.38444543017991484"
      ]
     },
     "execution_count": 129,
     "metadata": {},
     "output_type": "execute_result"
    }
   ],
   "source": [
    "reg.score(x2, y)\n",
    "# this is the R^2"
   ]
  },
  {
   "cell_type": "code",
   "execution_count": 130,
   "id": "e03e95d5",
   "metadata": {},
   "outputs": [
    {
     "data": {
      "text/plain": [
       "(20456, 2)"
      ]
     },
     "execution_count": 130,
     "metadata": {},
     "output_type": "execute_result"
    }
   ],
   "source": [
    "x2.shape"
   ]
  },
  {
   "cell_type": "code",
   "execution_count": 136,
   "id": "b6c3b989",
   "metadata": {},
   "outputs": [],
   "source": [
    "r2 = reg.score(x2, y)\n",
    "n = x2.shape[0]\n",
    "p = x2.shape[1]\n",
    "adjusted_r2 = 1-(1-r2)*(n-1)/(n-p-1)"
   ]
  },
  {
   "cell_type": "code",
   "execution_count": 137,
   "id": "b8df07f9",
   "metadata": {},
   "outputs": [
    {
     "data": {
      "text/plain": [
       "0.38438523807412883"
      ]
     },
     "execution_count": 137,
     "metadata": {},
     "output_type": "execute_result"
    }
   ],
   "source": [
    "adjusted_r2"
   ]
  },
  {
   "cell_type": "code",
   "execution_count": 138,
   "id": "b925570b",
   "metadata": {},
   "outputs": [],
   "source": [
    "from sklearn.feature_selection import f_regression"
   ]
  },
  {
   "cell_type": "code",
   "execution_count": 140,
   "id": "4b10c297",
   "metadata": {},
   "outputs": [
    {
     "data": {
      "text/plain": [
       "(array([12313.38516564,    76.99551379]),\n",
       " array([0.00000000e+00, 1.84534138e-18]))"
      ]
     },
     "execution_count": 140,
     "metadata": {},
     "output_type": "execute_result"
    }
   ],
   "source": [
    "f_regression(x2, y)\n",
    "# first array is the f stat and the second is their p values"
   ]
  },
  {
   "cell_type": "code",
   "execution_count": 144,
   "id": "3ad9c948",
   "metadata": {},
   "outputs": [
    {
     "data": {
      "text/plain": [
       "array([0., 0.])"
      ]
     },
     "execution_count": 144,
     "metadata": {},
     "output_type": "execute_result"
    }
   ],
   "source": [
    "p_values = f_regression(x2, y)[1]\n",
    "p_values.round(3)"
   ]
  },
  {
   "cell_type": "code",
   "execution_count": 146,
   "id": "f4f8402e",
   "metadata": {},
   "outputs": [
    {
     "data": {
      "text/html": [
       "<div>\n",
       "<style scoped>\n",
       "    .dataframe tbody tr th:only-of-type {\n",
       "        vertical-align: middle;\n",
       "    }\n",
       "\n",
       "    .dataframe tbody tr th {\n",
       "        vertical-align: top;\n",
       "    }\n",
       "\n",
       "    .dataframe thead th {\n",
       "        text-align: right;\n",
       "    }\n",
       "</style>\n",
       "<table border=\"1\" class=\"dataframe\">\n",
       "  <thead>\n",
       "    <tr style=\"text-align: right;\">\n",
       "      <th></th>\n",
       "      <th>Features</th>\n",
       "    </tr>\n",
       "  </thead>\n",
       "  <tbody>\n",
       "    <tr>\n",
       "      <th>0</th>\n",
       "      <td>sqft_living</td>\n",
       "    </tr>\n",
       "    <tr>\n",
       "      <th>1</th>\n",
       "      <td>house_condition</td>\n",
       "    </tr>\n",
       "  </tbody>\n",
       "</table>\n",
       "</div>"
      ],
      "text/plain": [
       "          Features\n",
       "0      sqft_living\n",
       "1  house_condition"
      ]
     },
     "execution_count": 146,
     "metadata": {},
     "output_type": "execute_result"
    }
   ],
   "source": [
    "reg_summary = pd.DataFrame(data = x2.columns.values, columns = ['Features'])\n",
    "reg_summary"
   ]
  },
  {
   "cell_type": "code",
   "execution_count": 148,
   "id": "459db24e",
   "metadata": {},
   "outputs": [
    {
     "data": {
      "text/html": [
       "<div>\n",
       "<style scoped>\n",
       "    .dataframe tbody tr th:only-of-type {\n",
       "        vertical-align: middle;\n",
       "    }\n",
       "\n",
       "    .dataframe tbody tr th {\n",
       "        vertical-align: top;\n",
       "    }\n",
       "\n",
       "    .dataframe thead th {\n",
       "        text-align: right;\n",
       "    }\n",
       "</style>\n",
       "<table border=\"1\" class=\"dataframe\">\n",
       "  <thead>\n",
       "    <tr style=\"text-align: right;\">\n",
       "      <th></th>\n",
       "      <th>Features</th>\n",
       "      <th>Coefficients</th>\n",
       "      <th>p-values</th>\n",
       "    </tr>\n",
       "  </thead>\n",
       "  <tbody>\n",
       "    <tr>\n",
       "      <th>0</th>\n",
       "      <td>sqft_living</td>\n",
       "      <td>204.574204</td>\n",
       "      <td>0.0</td>\n",
       "    </tr>\n",
       "    <tr>\n",
       "      <th>1</th>\n",
       "      <td>house_condition</td>\n",
       "      <td>34270.546957</td>\n",
       "      <td>0.0</td>\n",
       "    </tr>\n",
       "  </tbody>\n",
       "</table>\n",
       "</div>"
      ],
      "text/plain": [
       "          Features  Coefficients  p-values\n",
       "0      sqft_living    204.574204       0.0\n",
       "1  house_condition  34270.546957       0.0"
      ]
     },
     "execution_count": 148,
     "metadata": {},
     "output_type": "execute_result"
    }
   ],
   "source": [
    "reg_summary['Coefficients'] = reg.coef_\n",
    "reg_summary['p-values'] = p_values.round(3)\n",
    "reg_summary"
   ]
  },
  {
   "cell_type": "code",
   "execution_count": 149,
   "id": "c6597e1c",
   "metadata": {},
   "outputs": [
    {
     "data": {
      "text/plain": [
       "array([316329.13269661, 600687.27564567, 232453.70923682, ...,\n",
       "       547497.98271994, 402250.29819201, 283597.26012694])"
      ]
     },
     "execution_count": 149,
     "metadata": {},
     "output_type": "execute_result"
    }
   ],
   "source": [
    "reg.predict(x2)"
   ]
  },
  {
   "cell_type": "code",
   "execution_count": null,
   "id": "0888c1b3",
   "metadata": {},
   "outputs": [],
   "source": []
  },
  {
   "cell_type": "code",
   "execution_count": null,
   "id": "e8cfb69e",
   "metadata": {},
   "outputs": [],
   "source": []
  },
  {
   "cell_type": "code",
   "execution_count": null,
   "id": "c64577ed",
   "metadata": {},
   "outputs": [],
   "source": []
  },
  {
   "cell_type": "markdown",
   "id": "35797232",
   "metadata": {},
   "source": [
    "### Step 3: Interpret Model Summary "
   ]
  },
  {
   "cell_type": "markdown",
   "id": "d551ad1d",
   "metadata": {},
   "source": [
    "Print the output of the results summary from your model. Interpret the following parts of your results summary. Include an explanation of what the given numbers mean in regards to your model.\n",
    "\n",
    "- R-squared \n",
    "\n",
    "The value is 0.38444543017991484. This number has risen from the simple regression, thus giving more explanatory power.\n",
    "\n",
    "- Adjusted R-squared\n",
    "\n",
    "The value is 0.38438523807412883. This number has risen from the simple regression, thus giving more explanatory power as well. Since they both increased, we should accept this feature as significant and should be included in our regression.\n",
    "\n",
    "- Coefficient of independent variables\n",
    "\n",
    "The coefficients are both positive, so as each rise, their price rises as well. Hosue condition is on a small scale, so one change in its degree will have a large change in price, thus its coefficient is much larger than sqft_living.\n",
    "\n",
    "- P-value of T-statistic\n",
    "\n",
    "\n",
    "\n",
    "- P-value of F-statistic\n",
    "\n",
    "The p-values of the F-statistic is virtually 0. We can determine that they are both useful features."
   ]
  },
  {
   "cell_type": "markdown",
   "id": "b6e3a121",
   "metadata": {},
   "source": [
    "If you would like, continue to create new linear models as you add more than two independent variables. Notice the differences in the R-Squared values you get from each model. "
   ]
  },
  {
   "cell_type": "markdown",
   "id": "557440ed",
   "metadata": {},
   "source": [
    "### Step 4: Predict Values"
   ]
  },
  {
   "cell_type": "code",
   "execution_count": 150,
   "id": "7c9cc5f1",
   "metadata": {},
   "outputs": [],
   "source": [
    "from sklearn.preprocessing import StandardScaler"
   ]
  },
  {
   "cell_type": "code",
   "execution_count": null,
   "id": "0b3a1821",
   "metadata": {},
   "outputs": [],
   "source": []
  },
  {
   "cell_type": "code",
   "execution_count": null,
   "id": "ba9db838",
   "metadata": {},
   "outputs": [],
   "source": []
  },
  {
   "cell_type": "code",
   "execution_count": null,
   "id": "95d3e5ca",
   "metadata": {},
   "outputs": [],
   "source": []
  },
  {
   "cell_type": "code",
   "execution_count": null,
   "id": "6a0a7328",
   "metadata": {},
   "outputs": [],
   "source": []
  },
  {
   "cell_type": "code",
   "execution_count": null,
   "id": "6bf5b096",
   "metadata": {},
   "outputs": [],
   "source": []
  },
  {
   "cell_type": "markdown",
   "id": "a5ba4519",
   "metadata": {},
   "source": [
    "### Step 5: Report Observations in Difference Between Simple and Multiple Linear Regression Models You Made "
   ]
  },
  {
   "cell_type": "code",
   "execution_count": 16,
   "id": "12371f0b",
   "metadata": {},
   "outputs": [],
   "source": [
    "# create new markdown cell and write down your observations"
   ]
  },
  {
   "cell_type": "markdown",
   "id": "0f7b1126",
   "metadata": {},
   "source": [
    "# Part 4 - Multivariate Time Series Analysis"
   ]
  },
  {
   "cell_type": "code",
   "execution_count": 17,
   "id": "2bd87209",
   "metadata": {},
   "outputs": [],
   "source": [
    "# complete the time series analysis exercise separately from data-time-series folder"
   ]
  },
  {
   "cell_type": "markdown",
   "id": "340e64e4",
   "metadata": {},
   "source": [
    "# Part 5 - Submit Project "
   ]
  }
 ],
 "metadata": {
  "kernelspec": {
   "display_name": "Python 3 (ipykernel)",
   "language": "python",
   "name": "python3"
  },
  "language_info": {
   "codemirror_mode": {
    "name": "ipython",
    "version": 3
   },
   "file_extension": ".py",
   "mimetype": "text/x-python",
   "name": "python",
   "nbconvert_exporter": "python",
   "pygments_lexer": "ipython3",
   "version": "3.10.9"
  }
 },
 "nbformat": 4,
 "nbformat_minor": 5
}
