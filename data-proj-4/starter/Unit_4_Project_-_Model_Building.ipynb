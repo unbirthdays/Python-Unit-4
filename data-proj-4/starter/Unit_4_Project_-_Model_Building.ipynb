{
 "cells": [
  {
   "cell_type": "markdown",
   "id": "eebbc19f",
   "metadata": {},
   "source": [
    "# Unit 4 Project - Model Building "
   ]
  },
  {
   "cell_type": "markdown",
   "id": "0e314f76",
   "metadata": {},
   "source": [
    "# Part 1 - Learn Linear Regression Theory"
   ]
  },
  {
   "cell_type": "markdown",
   "id": "43b21b31",
   "metadata": {},
   "source": [
    "### Step 1: Describe Linear Regression Models "
   ]
  },
  {
   "cell_type": "markdown",
   "id": "146aec7e",
   "metadata": {},
   "source": [
    "Answer the following questions after reading the resource material and watching the video lectures linked in the Linear Regression Theory section:"
   ]
  },
  {
   "cell_type": "markdown",
   "id": "cc7b5db5",
   "metadata": {},
   "source": [
    "- In your own words, briefly describe a simple linear regression model.\n",
    "- What type of machine learning is linear regression?\n",
    "- What is a “line of best fit” using the OLS method?\n",
    "- What is the difference between correlation and regression?\n",
    "- Describe a scenario when you would use linear regression and why you would use it. \n"
   ]
  },
  {
   "cell_type": "markdown",
   "id": "fefd8893",
   "metadata": {},
   "source": [
    "### Step 2: Describe Linear Regression Assumptions "
   ]
  },
  {
   "cell_type": "markdown",
   "id": "4abd7e77",
   "metadata": {},
   "source": [
    "In your own words, describe the following linear regression assumptions after reading the resource material and watching the video lectures linked in the Linear Regression Theory section:"
   ]
  },
  {
   "cell_type": "markdown",
   "id": "2005712c",
   "metadata": {},
   "source": [
    "- Linearity\n",
    "- Normality\n",
    "- Homoscedasticity\n",
    "- No multicollinearity\n",
    "- No endogeneity\n",
    "- No autocorrelation"
   ]
  },
  {
   "cell_type": "markdown",
   "id": "1d61b124",
   "metadata": {},
   "source": [
    "### Step 3: Describe How to Interpret Results from Correlation Table in Model Summary "
   ]
  },
  {
   "cell_type": "markdown",
   "id": "84e72672",
   "metadata": {},
   "source": [
    "In your own words, describe the following terms after reading the resource material and watching the video lectures linked in the Linear Regression Theory section:"
   ]
  },
  {
   "cell_type": "markdown",
   "id": "63412327",
   "metadata": {},
   "source": [
    "- Coefficient of Constant / Intercept (b0)\n",
    "- Coefficient of Independent Variable (B1)\n",
    "- Standard Error\n",
    "- T-Statistic\n",
    "- P-Value of T-Statistic (from the independent variable)\n"
   ]
  },
  {
   "cell_type": "markdown",
   "id": "36c3f83e",
   "metadata": {},
   "source": [
    "### Step 4:  Explain R-Squared and adjusted R-squared"
   ]
  },
  {
   "cell_type": "markdown",
   "id": "f3cda47b",
   "metadata": {},
   "source": [
    "In your own words, describe the following terms after reading the resource material and watching the video lectures linked in the Linear Regression Theory section:"
   ]
  },
  {
   "cell_type": "markdown",
   "id": "493a011c",
   "metadata": {},
   "source": [
    "- R-squared\n",
    "- Adjusted R-squared\n"
   ]
  },
  {
   "cell_type": "markdown",
   "id": "e365eb29",
   "metadata": {},
   "source": [
    "# Part 2 - Linear Regression in Practice"
   ]
  },
  {
   "cell_type": "markdown",
   "id": "fe1421ad",
   "metadata": {},
   "source": [
    "### Step 1: Import libraries and load dataset"
   ]
  },
  {
   "cell_type": "code",
   "execution_count": 1,
   "id": "455d7c79",
   "metadata": {},
   "outputs": [],
   "source": [
    "# make necessary imports"
   ]
  },
  {
   "cell_type": "code",
   "execution_count": 2,
   "id": "ef01e3da",
   "metadata": {},
   "outputs": [],
   "source": [
    "# load data"
   ]
  },
  {
   "cell_type": "markdown",
   "id": "2ee41601",
   "metadata": {},
   "source": [
    "### Step 2: Explore the data "
   ]
  },
  {
   "cell_type": "markdown",
   "id": "b8349c00",
   "metadata": {},
   "source": [
    "#### Spend time exploring the data and looking for relationships between variables. "
   ]
  },
  {
   "cell_type": "code",
   "execution_count": 4,
   "id": "30bae650",
   "metadata": {},
   "outputs": [],
   "source": [
    "# explore data below (you will need to make new cells)"
   ]
  },
  {
   "cell_type": "markdown",
   "id": "3eea19eb",
   "metadata": {},
   "source": [
    "### Step 3: Determine independent and dependent variable"
   ]
  },
  {
   "cell_type": "code",
   "execution_count": 6,
   "id": "8138e69a",
   "metadata": {},
   "outputs": [],
   "source": [
    "# set X \n",
    "\n",
    "# set Y \n"
   ]
  },
  {
   "cell_type": "code",
   "execution_count": 7,
   "id": "6820160a",
   "metadata": {},
   "outputs": [],
   "source": [
    "# visualize relationship between X and Y"
   ]
  },
  {
   "cell_type": "markdown",
   "id": "7aad8890",
   "metadata": {},
   "source": [
    "### Step 4: Fit Regression "
   ]
  },
  {
   "cell_type": "markdown",
   "id": "21c6a9b7",
   "metadata": {},
   "source": [
    "Solution below is for example only. Results may vary depending on variables chosen by student to use in linear regression model and which statistical package is used for linear regression model."
   ]
  },
  {
   "cell_type": "code",
   "execution_count": 8,
   "id": "87025c16",
   "metadata": {},
   "outputs": [],
   "source": [
    "# fit model to X and Y variables (you will need to make more cells)"
   ]
  },
  {
   "cell_type": "markdown",
   "id": "86eb0c71",
   "metadata": {},
   "source": [
    "### Step 5: Interpret Model Summary "
   ]
  },
  {
   "cell_type": "code",
   "execution_count": 9,
   "id": "db827182",
   "metadata": {},
   "outputs": [],
   "source": [
    "# print out and interpret model summary // terms identified below"
   ]
  },
  {
   "cell_type": "markdown",
   "id": "b77e98d8",
   "metadata": {},
   "source": [
    "Interpret the following from your model:\n",
    "\n",
    "- R-squared \n",
    "- Coefficient of independent variable\n",
    "- P-value of T-statistic\n",
    "- P-value of F-statistic"
   ]
  },
  {
   "cell_type": "markdown",
   "id": "240faf5b",
   "metadata": {},
   "source": [
    "### Step 6: Predict Values"
   ]
  },
  {
   "cell_type": "markdown",
   "id": "dfbf4cde",
   "metadata": {},
   "source": [
    "Solution below is for example only. Results may vary depending on variables chosen by student to use in linear regression model. "
   ]
  },
  {
   "cell_type": "code",
   "execution_count": 12,
   "id": "b2ccd4e8",
   "metadata": {},
   "outputs": [],
   "source": [
    "# predict new y values (dependent variables) by feeding model new independent variable values"
   ]
  },
  {
   "cell_type": "markdown",
   "id": "34b4cfd1",
   "metadata": {},
   "source": [
    "# Part 3 - Multiple Linear Regression"
   ]
  },
  {
   "cell_type": "markdown",
   "id": "a055f1f6",
   "metadata": {},
   "source": [
    "### Step 1: From Data Exploration in Part 2, Pick Another Independent Variable "
   ]
  },
  {
   "cell_type": "code",
   "execution_count": 13,
   "id": "e73ac274",
   "metadata": {},
   "outputs": [],
   "source": [
    "# Pick another independent variable. Be sure to avoid multicollinearity. "
   ]
  },
  {
   "cell_type": "markdown",
   "id": "8434f441",
   "metadata": {},
   "source": [
    "### Step 2: Fit A New Multiple Linear Regression Model to the New Independent Variables"
   ]
  },
  {
   "cell_type": "markdown",
   "id": "29cc17a7",
   "metadata": {},
   "source": [
    "Solution below is for example only. Results may vary depending on variables chosen by student to use in linear regression model. "
   ]
  },
  {
   "cell_type": "code",
   "execution_count": 14,
   "id": "fc9ba21a",
   "metadata": {},
   "outputs": [],
   "source": [
    "# fit new regression model (you will need to make more cells)"
   ]
  },
  {
   "cell_type": "markdown",
   "id": "35797232",
   "metadata": {},
   "source": [
    "### Step 3: Interpret Model Summary "
   ]
  },
  {
   "cell_type": "markdown",
   "id": "d551ad1d",
   "metadata": {},
   "source": [
    "Print the output of the results summary from your model. Interpret the following parts of your results summary. Include an explanation of what the given numbers mean in regards to your model.\n",
    "- R-squared \n",
    "- Adjusted R-squared\n",
    "- Coefficient of independent variables\n",
    "- P-value of T-statistic\n",
    "- P-value of F-statistic\n",
    "\n"
   ]
  },
  {
   "cell_type": "markdown",
   "id": "b6e3a121",
   "metadata": {},
   "source": [
    "If you would like, continue to create new linear models as you add more than two independent variables. Notice the differences in the R-Squared values you get from each model. "
   ]
  },
  {
   "cell_type": "markdown",
   "id": "557440ed",
   "metadata": {},
   "source": [
    "### Step 4: Predict Values"
   ]
  },
  {
   "cell_type": "code",
   "execution_count": 15,
   "id": "7c9cc5f1",
   "metadata": {},
   "outputs": [],
   "source": [
    "# predict new y values (dependent variables) by feeding model new independent variable values"
   ]
  },
  {
   "cell_type": "markdown",
   "id": "a5ba4519",
   "metadata": {},
   "source": [
    "### Step 5: Report Observations in Difference Between Simple and Multiple Linear Regression Models You Made "
   ]
  },
  {
   "cell_type": "code",
   "execution_count": 16,
   "id": "12371f0b",
   "metadata": {},
   "outputs": [],
   "source": [
    "# create new markdown cell and write down your observations"
   ]
  },
  {
   "cell_type": "markdown",
   "id": "0f7b1126",
   "metadata": {},
   "source": [
    "# Part 4 - Multivariate Time Series Analysis"
   ]
  },
  {
   "cell_type": "code",
   "execution_count": 17,
   "id": "2bd87209",
   "metadata": {},
   "outputs": [],
   "source": [
    "# complete the time series analysis exercise separately from data-time-series folder"
   ]
  },
  {
   "cell_type": "markdown",
   "id": "340e64e4",
   "metadata": {},
   "source": [
    "# Part 5 - Submit Project "
   ]
  }
 ],
 "metadata": {
  "kernelspec": {
   "display_name": "Python 3 (ipykernel)",
   "language": "python",
   "name": "python3"
  },
  "language_info": {
   "codemirror_mode": {
    "name": "ipython",
    "version": 3
   },
   "file_extension": ".py",
   "mimetype": "text/x-python",
   "name": "python",
   "nbconvert_exporter": "python",
   "pygments_lexer": "ipython3",
   "version": "3.9.7"
  }
 },
 "nbformat": 4,
 "nbformat_minor": 5
}
